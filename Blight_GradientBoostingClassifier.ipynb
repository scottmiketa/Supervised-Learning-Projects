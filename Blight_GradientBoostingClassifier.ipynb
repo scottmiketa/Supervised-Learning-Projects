{
 "cells": [
  {
   "cell_type": "markdown",
   "id": "continuing-documentary",
   "metadata": {},
   "source": [
    "### Predict the probability that the corresponding blight ticket will be paid on time"
   ]
  },
  {
   "cell_type": "code",
   "execution_count": 2,
   "id": "false-grant",
   "metadata": {},
   "outputs": [],
   "source": [
    "# import some necessary libraries\n",
    "import numpy as np\n",
    "import pandas as pd\n",
    "\n",
    "from sklearn import tree\n",
    "from sklearn.model_selection import GridSearchCV\n",
    "from sklearn.metrics import classification_report\n",
    "\n",
    "# Suppress all warnings\n",
    "import warnings\n",
    "warnings.filterwarnings('ignore')"
   ]
  },
  {
   "cell_type": "code",
   "execution_count": 4,
   "id": "plastic-phone",
   "metadata": {},
   "outputs": [],
   "source": [
    "pd.set_option('display.max_columns', 40)  \n",
    "train = pd.read_csv('assets/train.csv')\n",
    "test = pd.read_csv('assets/test.csv')\n",
    "\n",
    "# Filter out NaN from target\n",
    "train = train[(train['compliance'] == 1) | (train['compliance'] == 0)]"
   ]
  },
  {
   "cell_type": "code",
   "execution_count": 5,
   "id": "oriental-vietnam",
   "metadata": {},
   "outputs": [
    {
     "name": "stdout",
     "output_type": "stream",
     "text": [
      "ticket_id                          0\n",
      "agency_name                        0\n",
      "inspector_name                     0\n",
      "violator_name                     26\n",
      "violation_street_number            0\n",
      "violation_street_name              0\n",
      "violation_zip_code            159880\n",
      "mailing_address_str_number      2558\n",
      "mailing_address_str_name           3\n",
      "city                               0\n",
      "state                             84\n",
      "zip_code                           1\n",
      "non_us_str_code               159877\n",
      "country                            0\n",
      "ticket_issued_date                 0\n",
      "hearing_date                     227\n",
      "violation_code                     0\n",
      "violation_description              0\n",
      "disposition                        0\n",
      "fine_amount                        0\n",
      "admin_fee                          0\n",
      "state_fee                          0\n",
      "late_fee                           0\n",
      "discount_amount                    0\n",
      "clean_up_cost                      0\n",
      "judgment_amount                    0\n",
      "grafitti_status               159880\n",
      "compliance                         0\n",
      "dtype: int64\n"
     ]
    }
   ],
   "source": [
    "## Drop columns not present in training and testing\n",
    "remaining_columns = ['payment_amount','payment_status', 'balance_due','collection_status', 'compliance_detail','payment_date']\n",
    "train.drop(remaining_columns, axis=1, inplace=True)\n",
    "\n",
    "# Drop First column\n",
    "train.drop(['Unnamed: 0'], axis=1, inplace=True)\n",
    "train\n",
    "## Drop Columns with too many NAs\n",
    "print(train.isna().sum())\n",
    "na_columns = ['violation_zip_code', 'non_us_str_code',  'grafitti_status']\n",
    "train.drop(na_columns, axis=1, inplace=True)"
   ]
  },
  {
   "cell_type": "code",
   "execution_count": 6,
   "id": "powerful-ceramic",
   "metadata": {},
   "outputs": [],
   "source": [
    "#Drop clean_up_cost, admin_fee, state_fee, as there is only one unique value\n",
    "train['clean_up_cost'].nunique()\n",
    "train.drop(['clean_up_cost', 'admin_fee', 'state_fee'], axis=1, inplace=True)\n",
    "\n",
    "#Drop violation_description, as it correlates to violation_code\n",
    "train.drop(['violation_description'], axis=1, inplace=True)\n",
    "#Drop violator_name, as it will create too many unique categories\n",
    "train.drop(['violator_name'], axis=1, inplace=True)\n",
    "#Drop state, zip_code, county as it will correlate to city\n",
    "train.drop(['state', 'zip_code', 'country'], axis=1, inplace=True)\n",
    "\n",
    "#Drop mailing_address_str_number, mailing_address_str_name, county as it will create too many unique categories\n",
    "train.drop(['mailing_address_str_number', 'mailing_address_str_name'], axis=1, inplace=True)\n",
    "#Drop dates\n",
    "train.drop(['hearing_date', 'ticket_issued_date'], axis=1, inplace=True)\n"
   ]
  },
  {
   "cell_type": "code",
   "execution_count": 7,
   "id": "global-skirt",
   "metadata": {},
   "outputs": [],
   "source": [
    "# Drop same columns in testing\n",
    "test.drop(['clean_up_cost', 'admin_fee', 'state_fee'], axis=1, inplace=True)\n",
    "\n",
    "test.drop(['violation_description'], axis=1, inplace=True)\n",
    "test.drop(['violator_name'], axis=1, inplace=True)\n",
    "test.drop(['state', 'zip_code', 'country'], axis=1, inplace=True)\n",
    "test.drop(['mailing_address_str_number', 'mailing_address_str_name'], axis=1, inplace=True)\n",
    "test.drop(['hearing_date', 'ticket_issued_date'], axis=1, inplace=True)\n",
    "test.drop(['violation_zip_code', 'non_us_str_code',  'grafitti_status'], axis=1, inplace=True)"
   ]
  },
  {
   "cell_type": "code",
   "execution_count": 8,
   "id": "parental-dayton",
   "metadata": {},
   "outputs": [],
   "source": [
    "train = train.set_index('ticket_id')\n",
    "test = test.set_index('ticket_id')"
   ]
  },
  {
   "cell_type": "code",
   "execution_count": 9,
   "id": "convertible-insurance",
   "metadata": {},
   "outputs": [
    {
     "data": {
      "text/plain": [
       "True"
      ]
     },
     "execution_count": 9,
     "metadata": {},
     "output_type": "execute_result"
    }
   ],
   "source": [
    "#Check to make sure the lengths are the same (excluding compliance)\n",
    "len(train.columns) == (len(test.columns) +1)"
   ]
  },
  {
   "cell_type": "code",
   "execution_count": 10,
   "id": "therapeutic-replication",
   "metadata": {},
   "outputs": [],
   "source": [
    "X_train = train.iloc[:,0:11]\n",
    "y_train = train['compliance']\n",
    "\n",
    "X_test = test.iloc[:,0:11]"
   ]
  },
  {
   "cell_type": "code",
   "execution_count": 13,
   "id": "broke-burning",
   "metadata": {},
   "outputs": [],
   "source": [
    "# Create categorical variables\n",
    "cols = ['agency_name', 'inspector_name', 'violation_street_number', 'violation_street_name', 'city', 'violation_code', 'disposition']\n",
    "X_train[cols] = X_train[cols].astype('category')\n",
    "X_train[cols] = X_train[cols].apply(lambda x: x.cat.codes)\n",
    "X_test[cols] = X_test[cols].astype('category')\n",
    "X_test[cols] = X_test[cols].apply(lambda x: x.cat.codes)\n"
   ]
  },
  {
   "cell_type": "code",
   "execution_count": 15,
   "id": "stock-activation",
   "metadata": {},
   "outputs": [
    {
     "data": {
      "text/plain": [
       "GridSearchCV(estimator=GradientBoostingClassifier(random_state=42),\n",
       "             param_grid={'learning_rate': [0.001, 0.01, 0.1],\n",
       "                         'max_depth': [2, 3, 4]},\n",
       "             scoring='roc_auc')"
      ]
     },
     "execution_count": 15,
     "metadata": {},
     "output_type": "execute_result"
    }
   ],
   "source": [
    "from sklearn.ensemble import GradientBoostingClassifier\n",
    "\n",
    "clf = GradientBoostingClassifier(random_state = 42)\n",
    "learning_rate = [0.001, 0.01,0.1]\n",
    "max_depth = [2,3,4]\n",
    "grid_values = {'learning_rate' : learning_rate, 'max_depth' : max_depth}\n",
    "\n",
    "\n",
    "grid_clf_acc = GridSearchCV(clf, param_grid = grid_values, scoring = 'roc_auc')\n",
    "grid_clf_acc.fit(X_train, y_train)"
   ]
  },
  {
   "cell_type": "code",
   "execution_count": 19,
   "id": "surgical-vietnam",
   "metadata": {},
   "outputs": [
    {
     "name": "stdout",
     "output_type": "stream",
     "text": [
      "0.7982512431057947\n",
      "{'learning_rate': 0.1, 'max_depth': 4}\n"
     ]
    },
    {
     "data": {
      "text/plain": [
       "ticket_id\n",
       "284932    0.288440\n",
       "285362    0.118877\n",
       "285361    0.114852\n",
       "285338    0.306785\n",
       "285346    0.330352\n",
       "            ...   \n",
       "376496    0.094476\n",
       "376497    0.094476\n",
       "376499    0.159447\n",
       "376500    0.159447\n",
       "369851    0.921474\n",
       "Length: 61001, dtype: float64"
      ]
     },
     "execution_count": 19,
     "metadata": {},
     "output_type": "execute_result"
    }
   ],
   "source": [
    "print(grid_clf_acc.best_score_)\n",
    "print(grid_clf_acc.best_params_)\n",
    "\n",
    "values = grid_clf_acc.predict_proba(X_test) \n",
    "result = pd.Series(values[:,1], index=X_test.index)\n",
    "result"
   ]
  },
  {
   "cell_type": "code",
   "execution_count": null,
   "id": "controversial-chocolate",
   "metadata": {},
   "outputs": [],
   "source": []
  }
 ],
 "metadata": {
  "kernelspec": {
   "display_name": "Python 3 (ipykernel)",
   "language": "python",
   "name": "python3"
  },
  "language_info": {
   "codemirror_mode": {
    "name": "ipython",
    "version": 3
   },
   "file_extension": ".py",
   "mimetype": "text/x-python",
   "name": "python",
   "nbconvert_exporter": "python",
   "pygments_lexer": "ipython3",
   "version": "3.7.10"
  }
 },
 "nbformat": 4,
 "nbformat_minor": 5
}
